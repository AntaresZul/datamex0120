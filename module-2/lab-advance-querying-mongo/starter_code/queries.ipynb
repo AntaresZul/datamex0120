{
 "cells": [
  {
   "cell_type": "markdown",
   "metadata": {},
   "source": [
    "![Ironhack Logo](https://i.imgur.com/1QgrNNw.png)"
   ]
  },
  {
   "cell_type": "code",
   "execution_count": 36,
   "metadata": {},
   "outputs": [
    {
     "data": {
      "text/plain": [
       "Index(['_id', 'name', 'permalink', 'crunchbase_url', 'homepage_url',\n",
       "       'blog_url', 'blog_feed_url', 'twitter_username', 'category_code',\n",
       "       'number_of_employees', 'founded_year', 'founded_month', 'founded_day',\n",
       "       'deadpooled_year', 'tag_list', 'alias_list', 'email_address',\n",
       "       'phone_number', 'description', 'created_at', 'updated_at', 'overview',\n",
       "       'image', 'products', 'relationships', 'competitions', 'providerships',\n",
       "       'total_money_raised', 'funding_rounds', 'investments', 'acquisition',\n",
       "       'acquisitions', 'offices', 'milestones', 'video_embeds', 'screenshots',\n",
       "       'external_links', 'partners', 'deadpooled_month', 'deadpooled_day',\n",
       "       'deadpooled_url', 'ipo'],\n",
       "      dtype='object')"
      ]
     },
     "execution_count": 36,
     "metadata": {},
     "output_type": "execute_result"
    }
   ],
   "source": [
    "# imports\n",
    "from pymongo import MongoClient\n",
    "import pandas as pd\n",
    "\n",
    "# connection with mongo\n",
    "client = MongoClient(\"mongodb://localhost:27017/\")\n",
    "\n",
    "# connection with database \"db_companies\"\n",
    "db = client.db_companies\n",
    "\n",
    "# companies collection\n",
    "collection_companies = db.companies\n",
    "\n",
    "# querying EVERYTHING\n",
    "query = collection_companies.find()\n",
    "\n",
    "# convert to pandas.DataFrame\n",
    "df = pd.DataFrame(query)\n",
    "df.columns"
   ]
  },
  {
   "cell_type": "markdown",
   "metadata": {},
   "source": [
    "# Answers\n",
    "### 1. All the companies that it's name match 'Babelgum'. Retrieve only their `name` field."
   ]
  },
  {
   "cell_type": "code",
   "execution_count": 33,
   "metadata": {},
   "outputs": [
    {
     "data": {
      "text/plain": [
       "[{'name': 'Babelgum'}]"
      ]
     },
     "execution_count": 33,
     "metadata": {},
     "output_type": "execute_result"
    }
   ],
   "source": [
    "list(db.companies.find({'name':'Babelgum'},{'_id':0,'name':1}))"
   ]
  },
  {
   "cell_type": "markdown",
   "metadata": {},
   "source": [
    "### 2. All the companies that have more than 5000 employees. Limit the search to 20 companies and sort them by **number of employees**."
   ]
  },
  {
   "cell_type": "code",
   "execution_count": 62,
   "metadata": {},
   "outputs": [
    {
     "data": {
      "text/plain": [
       "[{'name': 'Nintendo'},\n",
       " {'name': 'Hexaware Technologies'},\n",
       " {'name': 'Facebook'},\n",
       " {'name': 'OpenText'},\n",
       " {'name': 'LSI'},\n",
       " {'name': 'CPM Braxis'},\n",
       " {'name': 'Microchip Technologies'},\n",
       " {'name': 'Mediaset'},\n",
       " {'name': 'Mindray Medical International'},\n",
       " {'name': 'Baidu'},\n",
       " {'name': 'Dentsu'},\n",
       " {'name': 'Tata Communications'},\n",
       " {'name': 'Atmel'},\n",
       " {'name': 'Acxiom'},\n",
       " {'name': 'Acxiom'},\n",
       " {'name': 'SRA International'},\n",
       " {'name': \"Moody's\"},\n",
       " {'name': 'ManTech'},\n",
       " {'name': 'Adobe Systems'},\n",
       " {'name': 'Broadcom'}]"
      ]
     },
     "execution_count": 62,
     "metadata": {},
     "output_type": "execute_result"
    }
   ],
   "source": [
    "list(db.companies.find({'number_of_employees':{'$gt':5000}}, {'name':1, '_id':0}).sort('number_of_employees',1).limit(20))"
   ]
  },
  {
   "cell_type": "markdown",
   "metadata": {},
   "source": [
    "### 3. All the companies founded between 2000 and 2005, both years included. Retrieve only the `name` and `founded_year` fileds."
   ]
  },
  {
   "cell_type": "code",
   "execution_count": 90,
   "metadata": {},
   "outputs": [
    {
     "data": {
      "text/plain": [
       "[{'founded_year': 2000, 'name': 'AllofMP3'},\n",
       " {'founded_year': 2000, 'name': 'Steorn'},\n",
       " {'founded_year': 2000, 'name': 'MeeVee'},\n",
       " {'founded_year': 2000, 'name': 'PhotoBox'},\n",
       " {'founded_year': 2000, 'name': 'Boonex'},\n",
       " {'founded_year': 2000, 'name': 'Sulake'},\n",
       " {'founded_year': 2000, 'name': 'SelectMinds'},\n",
       " {'founded_year': 2000, 'name': 'ContextWeb'},\n",
       " {'founded_year': 2000, 'name': 'ZoomInfo'},\n",
       " {'founded_year': 2000, 'name': 'eHarmony'},\n",
       " {'founded_year': 2000, 'name': 'Espotting'},\n",
       " {'founded_year': 2000, 'name': 'airG'},\n",
       " {'founded_year': 2000, 'name': 'Marchex'},\n",
       " {'founded_year': 2000, 'name': 'ContactOffice'},\n",
       " {'founded_year': 2000, 'name': 'WooMe'},\n",
       " {'founded_year': 2000, 'name': 'Boomi'},\n",
       " {'founded_year': 2000, 'name': 'zSlide'},\n",
       " {'founded_year': 2000, 'name': 'Phrasebase'},\n",
       " {'founded_year': 2000, 'name': 'Ubertor'},\n",
       " {'founded_year': 2000, 'name': 'JobDig'}]"
      ]
     },
     "execution_count": 90,
     "metadata": {},
     "output_type": "execute_result"
    }
   ],
   "source": [
    "list(db.companies.find({'founded_year':{'$gte':2000, '$lte':2005}},{'_id':0,'name':1,'founded_year':1}).sort('founded_year').limit(20))"
   ]
  },
  {
   "cell_type": "markdown",
   "metadata": {},
   "source": [
    "### 4. All the companies that had a Valuation Amount of more than 100.000.000 and have been founded before 2010. Retrieve only the `name` and `ipo` fields."
   ]
  },
  {
   "cell_type": "code",
   "execution_count": 63,
   "metadata": {},
   "outputs": [
    {
     "data": {
      "text/plain": [
       "Index(['_id', 'name', 'permalink', 'crunchbase_url', 'homepage_url',\n",
       "       'blog_url', 'blog_feed_url', 'twitter_username', 'category_code',\n",
       "       'number_of_employees', 'founded_year', 'founded_month', 'founded_day',\n",
       "       'deadpooled_year', 'tag_list', 'alias_list', 'email_address',\n",
       "       'phone_number', 'description', 'created_at', 'updated_at', 'overview',\n",
       "       'image', 'products', 'relationships', 'competitions', 'providerships',\n",
       "       'total_money_raised', 'funding_rounds', 'investments', 'acquisition',\n",
       "       'acquisitions', 'offices', 'milestones', 'video_embeds', 'screenshots',\n",
       "       'external_links', 'partners', 'deadpooled_month', 'deadpooled_day',\n",
       "       'deadpooled_url', 'ipo'],\n",
       "      dtype='object')"
      ]
     },
     "execution_count": 63,
     "metadata": {},
     "output_type": "execute_result"
    }
   ],
   "source": [
    "df.columns"
   ]
  },
  {
   "cell_type": "code",
   "execution_count": 92,
   "metadata": {},
   "outputs": [
    {
     "data": {
      "text/plain": [
       "[{'ipo': None, 'name': 'Fleck'},\n",
       " {'ipo': None, 'name': 'eBuddy'},\n",
       " {'ipo': None, 'name': 'Curverider'},\n",
       " {'ipo': None, 'name': 'Seedcamp'},\n",
       " {'ipo': None, 'name': 'Goojet'},\n",
       " {'ipo': None, 'name': 'Mobovivo'},\n",
       " {'ipo': None, 'name': 'Fon'},\n",
       " {'ipo': None, 'name': 'Plazes'},\n",
       " {'ipo': None, 'name': 'Evi'},\n",
       " {'ipo': None, 'name': 'Blyk'}]"
      ]
     },
     "execution_count": 92,
     "metadata": {},
     "output_type": "execute_result"
    }
   ],
   "source": [
    "list(db.companies.find({'total_money_raised':{'$gte':'100M'}, 'founded_year':{'$lte':2010}},{'_id':0,'name':1,'ipo':1}).limit(10))"
   ]
  },
  {
   "cell_type": "markdown",
   "metadata": {},
   "source": [
    "### 5. All the companies that have less than 1000 employees and have been founded before 2005. Order them by the number of employees and limit the search to 10 companies."
   ]
  },
  {
   "cell_type": "code",
   "execution_count": 85,
   "metadata": {},
   "outputs": [
    {
     "data": {
      "text/plain": [
       "[{'name': 'Fox Interactive Media'},\n",
       " {'name': 'Skype'},\n",
       " {'name': 'YouTube'},\n",
       " {'name': 'Bebo'},\n",
       " {'name': 'Ticketmaster'},\n",
       " {'name': 'stylediary'},\n",
       " {'name': 'MindTouch'},\n",
       " {'name': 'PartnerUp'},\n",
       " {'name': 'Yeigo'},\n",
       " {'name': 'Attributor'}]"
      ]
     },
     "execution_count": 85,
     "metadata": {},
     "output_type": "execute_result"
    }
   ],
   "source": [
    "list(db.companies.find({'number_of_employees':{'$lte':1000}, 'founded_year':{'$lte':2005}},\\\n",
    "                       {'name':1, '_id':0}).sort('number_of_employees').limit(10))"
   ]
  },
  {
   "cell_type": "markdown",
   "metadata": {},
   "source": [
    "### 6. All the companies that don't include the `partners` field."
   ]
  },
  {
   "cell_type": "code",
   "execution_count": 93,
   "metadata": {},
   "outputs": [
    {
     "data": {
      "text/plain": [
       "[]"
      ]
     },
     "execution_count": 93,
     "metadata": {},
     "output_type": "execute_result"
    }
   ],
   "source": [
    "list(db.companies.find({'partners':{'$exists':False}}))"
   ]
  },
  {
   "cell_type": "markdown",
   "metadata": {},
   "source": [
    "### 7. All the companies that have a null type of value on the `category_code` field."
   ]
  },
  {
   "cell_type": "code",
   "execution_count": 94,
   "metadata": {},
   "outputs": [
    {
     "data": {
      "text/plain": [
       "Index(['_id', 'name', 'permalink', 'crunchbase_url', 'homepage_url',\n",
       "       'blog_url', 'blog_feed_url', 'twitter_username', 'category_code',\n",
       "       'number_of_employees', 'founded_year', 'founded_month', 'founded_day',\n",
       "       'deadpooled_year', 'tag_list', 'alias_list', 'email_address',\n",
       "       'phone_number', 'description', 'created_at', 'updated_at', 'overview',\n",
       "       'image', 'products', 'relationships', 'competitions', 'providerships',\n",
       "       'total_money_raised', 'funding_rounds', 'investments', 'acquisition',\n",
       "       'acquisitions', 'offices', 'milestones', 'video_embeds', 'screenshots',\n",
       "       'external_links', 'partners', 'deadpooled_month', 'deadpooled_day',\n",
       "       'deadpooled_url', 'ipo'],\n",
       "      dtype='object')"
      ]
     },
     "execution_count": 94,
     "metadata": {},
     "output_type": "execute_result"
    }
   ],
   "source": [
    "df.columns\n"
   ]
  },
  {
   "cell_type": "code",
   "execution_count": 121,
   "metadata": {},
   "outputs": [
    {
     "data": {
      "text/plain": [
       "['web',\n",
       " 'enterprise',\n",
       " 'software',\n",
       " 'news',\n",
       " 'social',\n",
       " 'network_hosting',\n",
       " 'games_video',\n",
       " 'music',\n",
       " 'mobile',\n",
       " 'search',\n",
       " 'advertising',\n",
       " 'messaging',\n",
       " 'security',\n",
       " 'photo_video',\n",
       " 'finance',\n",
       " 'hardware',\n",
       " 'ecommerce',\n",
       " 'travel',\n",
       " 'public_relations',\n",
       " 'other',\n",
       " 'real_estate',\n",
       " 'semiconductor',\n",
       " 'analytics',\n",
       " 'health',\n",
       " 'legal',\n",
       " 'sports',\n",
       " 'biotech',\n",
       " 'cleantech',\n",
       " 'education',\n",
       " 'consulting',\n",
       " 'transportation',\n",
       " None,\n",
       " 'hospitality',\n",
       " 'fashion',\n",
       " 'nonprofit',\n",
       " 'nanotech',\n",
       " 'automotive',\n",
       " 'design',\n",
       " 'manufacturing',\n",
       " 'government',\n",
       " 'local',\n",
       " 'medical']"
      ]
     },
     "execution_count": 121,
     "metadata": {},
     "output_type": "execute_result"
    }
   ],
   "source": [
    "list(df.category_code.unique())"
   ]
  },
  {
   "cell_type": "code",
   "execution_count": 126,
   "metadata": {},
   "outputs": [
    {
     "data": {
      "text/plain": [
       "[{'name': 'Collective'},\n",
       " {'name': 'Snimmer'},\n",
       " {'name': 'KoolIM'},\n",
       " {'name': 'Level9 Media'},\n",
       " {'name': 'VidKing'},\n",
       " {'name': 'Drigg'},\n",
       " {'name': 'SpaceTime'},\n",
       " {'name': 'Touch Clarity'},\n",
       " {'name': 'MMDAYS'},\n",
       " {'name': 'Inside Group'},\n",
       " {'name': 'Repeater Store'},\n",
       " {'name': 'Tapesh'},\n",
       " {'name': 'iPersians'},\n",
       " {'name': 'NewPersia'},\n",
       " {'name': 'Pyra Labs'},\n",
       " {'name': 'Feedmap'},\n",
       " {'name': 'NuvoMedia'},\n",
       " {'name': 'Intwine'},\n",
       " {'name': 'The Weinstein Company'},\n",
       " {'name': 'ExecuNet'}]"
      ]
     },
     "execution_count": 126,
     "metadata": {},
     "output_type": "execute_result"
    }
   ],
   "source": [
    "list(db.companies.find({'category_code':None},{'_id':0,'name':1}).limit(20))"
   ]
  },
  {
   "cell_type": "markdown",
   "metadata": {},
   "source": [
    "### 8. All the companies that have at least 100 employees but less than 1000. Retrieve only the `name` and `number of employees` fields."
   ]
  },
  {
   "cell_type": "code",
   "execution_count": 127,
   "metadata": {},
   "outputs": [
    {
     "data": {
      "text/plain": [
       "[{'name': 'AdventNet', 'number_of_employees': 600},\n",
       " {'name': 'Zoho', 'number_of_employees': 1600},\n",
       " {'name': 'Facebook', 'number_of_employees': 5299},\n",
       " {'name': 'Twitter', 'number_of_employees': 1300},\n",
       " {'name': 'eBay', 'number_of_employees': 15000},\n",
       " {'name': 'Cisco', 'number_of_employees': 63000},\n",
       " {'name': 'Yahoo!', 'number_of_employees': 13600},\n",
       " {'name': 'AddThis', 'number_of_employees': 120},\n",
       " {'name': 'OpenX', 'number_of_employees': 305},\n",
       " {'name': 'LifeLock', 'number_of_employees': 644}]"
      ]
     },
     "execution_count": 127,
     "metadata": {},
     "output_type": "execute_result"
    }
   ],
   "source": [
    "list(db.companies.find({'$and':[{'number_of_employees':{'$lte':1000},\\\n",
    "                                'number_of_employees':{'$gte':100}}]},\\\n",
    "                        {'name':1, 'number_of_employees':1, '_id':0}).limit(10))"
   ]
  },
  {
   "cell_type": "markdown",
   "metadata": {},
   "source": [
    "### 9. Order all the companies by their IPO price descendently."
   ]
  },
  {
   "cell_type": "code",
   "execution_count": 129,
   "metadata": {},
   "outputs": [
    {
     "data": {
      "text/plain": [
       "[{'name': 'GREE'},\n",
       " {'name': 'Facebook'},\n",
       " {'name': 'Amazon'},\n",
       " {'name': 'Twitter'},\n",
       " {'name': 'Groupon'},\n",
       " {'name': 'Tencent'},\n",
       " {'name': 'Western Digital'},\n",
       " {'name': 'LinkedIn'},\n",
       " {'name': 'BMC Software'},\n",
       " {'name': 'Rackspace'},\n",
       " {'name': 'Baidu'},\n",
       " {'name': 'TripAdvisor'},\n",
       " {'name': 'HomeAway'},\n",
       " {'name': 'Zillow'},\n",
       " {'name': 'Nielsen'},\n",
       " {'name': 'Yelp'},\n",
       " {'name': 'Chegg'},\n",
       " {'name': 'Chegg'},\n",
       " {'name': 'RPX Corporation'},\n",
       " {'name': 'Higher One'}]"
      ]
     },
     "execution_count": 129,
     "metadata": {},
     "output_type": "execute_result"
    }
   ],
   "source": [
    " list(db.companies.find({'ipo.valuation_amount':{'$gte':0}},\\\n",
    "                       {'name':1, '_id':0}).sort('ipo.valuation_amount', -1).limit(20))"
   ]
  },
  {
   "cell_type": "markdown",
   "metadata": {},
   "source": [
    "### 10. Retrieve the 10 companies with more employees, order by the `number of employees`"
   ]
  },
  {
   "cell_type": "code",
   "execution_count": 137,
   "metadata": {},
   "outputs": [
    {
     "data": {
      "text/plain": [
       "[{'name': 'Siemens', 'number_of_employees': 405000},\n",
       " {'name': 'IBM', 'number_of_employees': 388000},\n",
       " {'name': 'Toyota', 'number_of_employees': 320000},\n",
       " {'name': 'PayPal', 'number_of_employees': 300000},\n",
       " {'name': 'Nippon Telegraph and Telephone Corporation',\n",
       "  'number_of_employees': 227000},\n",
       " {'name': 'Samsung Electronics', 'number_of_employees': 221726},\n",
       " {'name': 'Accenture', 'number_of_employees': 205000},\n",
       " {'name': 'Tata Consultancy Services', 'number_of_employees': 200300},\n",
       " {'name': 'Flextronics International', 'number_of_employees': 200000},\n",
       " {'name': 'Safeway', 'number_of_employees': 186000},\n",
       " {'name': 'Sony', 'number_of_employees': 180500},\n",
       " {'name': 'LG', 'number_of_employees': 177000},\n",
       " {'name': 'Ford', 'number_of_employees': 171000},\n",
       " {'name': 'Boeing', 'number_of_employees': 160000},\n",
       " {'name': 'Digital Equipment Corporation', 'number_of_employees': 140000},\n",
       " {'name': 'Nokia', 'number_of_employees': 125000},\n",
       " {'name': 'MItsubishi Electric', 'number_of_employees': 107000},\n",
       " {'name': 'MItsubishi Electric', 'number_of_employees': 107000},\n",
       " {'name': 'Comcast', 'number_of_employees': 100000},\n",
       " {'name': 'Bertelsmann', 'number_of_employees': 100000}]"
      ]
     },
     "execution_count": 137,
     "metadata": {},
     "output_type": "execute_result"
    }
   ],
   "source": [
    "list(db.companies.find({'number_of_employees':{'$gt':0}},\\\n",
    "                       {'_id':0, 'name':1, 'number_of_employees':1})\\\n",
    "                        .sort('number_of_employees',-1).limit(20))"
   ]
  },
  {
   "cell_type": "markdown",
   "metadata": {},
   "source": [
    "### 11. All the companies founded on the second semester of the year. Limit your search to 1000 companies."
   ]
  },
  {
   "cell_type": "code",
   "execution_count": 140,
   "metadata": {},
   "outputs": [
    {
     "data": {
      "text/plain": [
       "Index(['_id', 'name', 'permalink', 'crunchbase_url', 'homepage_url',\n",
       "       'blog_url', 'blog_feed_url', 'twitter_username', 'category_code',\n",
       "       'number_of_employees', 'founded_year', 'founded_month', 'founded_day',\n",
       "       'deadpooled_year', 'tag_list', 'alias_list', 'email_address',\n",
       "       'phone_number', 'description', 'created_at', 'updated_at', 'overview',\n",
       "       'image', 'products', 'relationships', 'competitions', 'providerships',\n",
       "       'total_money_raised', 'funding_rounds', 'investments', 'acquisition',\n",
       "       'acquisitions', 'offices', 'milestones', 'video_embeds', 'screenshots',\n",
       "       'external_links', 'partners', 'deadpooled_month', 'deadpooled_day',\n",
       "       'deadpooled_url', 'ipo'],\n",
       "      dtype='object')"
      ]
     },
     "execution_count": 140,
     "metadata": {},
     "output_type": "execute_result"
    }
   ],
   "source": [
    "df.columns"
   ]
  },
  {
   "cell_type": "code",
   "execution_count": 145,
   "metadata": {},
   "outputs": [
    {
     "data": {
      "text/plain": [
       "array([ 10.,  nan,   9.,   2.,  11.,   6.,   3.,   1.,   5.,  12.,   8.,\n",
       "         7.,   4.])"
      ]
     },
     "execution_count": 145,
     "metadata": {},
     "output_type": "execute_result"
    }
   ],
   "source": [
    "df.founded_month.unique()"
   ]
  },
  {
   "cell_type": "code",
   "execution_count": 152,
   "metadata": {},
   "outputs": [
    {
     "data": {
      "text/plain": [
       "[{'name': 'Wetpaint'},\n",
       " {'name': 'Zoho'},\n",
       " {'name': 'Digg'},\n",
       " {'name': 'Omnidrive'},\n",
       " {'name': 'Postini'},\n",
       " {'name': 'Geni'},\n",
       " {'name': 'Fox Interactive Media'},\n",
       " {'name': 'eBay'},\n",
       " {'name': 'Joost'},\n",
       " {'name': 'Plaxo'},\n",
       " {'name': 'Powerset'},\n",
       " {'name': 'Technorati'},\n",
       " {'name': 'Sparter'},\n",
       " {'name': 'Kyte'},\n",
       " {'name': 'Thoof'},\n",
       " {'name': 'Jingle Networks'},\n",
       " {'name': 'LifeLock'},\n",
       " {'name': 'Wesabe'},\n",
       " {'name': 'SmugMug'},\n",
       " {'name': 'Google'}]"
      ]
     },
     "execution_count": 152,
     "metadata": {},
     "output_type": "execute_result"
    }
   ],
   "source": [
    "list(db.companies.find({'founded_month':{'$gte':6,'$lte':12}},\\\n",
    "                        {'_id':0,'name':1})\\\n",
    "                     .limit(20))"
   ]
  },
  {
   "cell_type": "markdown",
   "metadata": {},
   "source": [
    "### 12. All the companies that have been 'deadpooled' after the third year."
   ]
  },
  {
   "cell_type": "code",
   "execution_count": null,
   "metadata": {},
   "outputs": [],
   "source": []
  },
  {
   "cell_type": "markdown",
   "metadata": {},
   "source": [
    "### 13. All the companies founded before 2000 that have and acquisition amount of more than 10.000.000"
   ]
  },
  {
   "cell_type": "code",
   "execution_count": 171,
   "metadata": {},
   "outputs": [
    {
     "data": {
      "text/plain": [
       "[]"
      ]
     },
     "execution_count": 171,
     "metadata": {},
     "output_type": "execute_result"
    }
   ],
   "source": [
    "list(db.colections.find({'$and':[{'founded_year':{'$lt':2000}},\\\n",
    "                                 {'total_money_raised':{'$gt':'10M'}}]},\\\n",
    "                        {'_id':0 ,'name':1})\\\n",
    "     .limit(10))"
   ]
  },
  {
   "cell_type": "code",
   "execution_count": 169,
   "metadata": {},
   "outputs": [
    {
     "data": {
      "text/plain": [
       "array(['$39.8M', '$0', '$45M', ..., '£850k', '$62.7M', '€1.13M'], dtype=object)"
      ]
     },
     "execution_count": 169,
     "metadata": {},
     "output_type": "execute_result"
    }
   ],
   "source": [
    "df.total_money_raised.unique()"
   ]
  },
  {
   "cell_type": "markdown",
   "metadata": {},
   "source": [
    "### 14. All the companies that have been acquired after 2015, order by the acquisition amount, and retrieve only their `name` and `acquisiton` field."
   ]
  },
  {
   "cell_type": "code",
   "execution_count": null,
   "metadata": {},
   "outputs": [],
   "source": [
    " "
   ]
  },
  {
   "cell_type": "markdown",
   "metadata": {},
   "source": [
    "### 15. Order the companies by their `founded year`, retrieving only their `name` and `founded year`."
   ]
  },
  {
   "cell_type": "code",
   "execution_count": 173,
   "metadata": {},
   "outputs": [
    {
     "data": {
      "text/plain": [
       "[{'founded_year': 2013, 'name': 'Fixya'},\n",
       " {'founded_year': 2013, 'name': 'Wamba'},\n",
       " {'founded_year': 2013, 'name': 'Advaliant'},\n",
       " {'founded_year': 2013, 'name': 'Fluc'},\n",
       " {'founded_year': 2013, 'name': 'iBazar'},\n",
       " {'founded_year': 2013, 'name': 'Gimigo'},\n",
       " {'founded_year': 2013, 'name': 'SEOGroup'},\n",
       " {'founded_year': 2013, 'name': 'Clowdy'},\n",
       " {'founded_year': 2013, 'name': 'WhosCall'},\n",
       " {'founded_year': 2013, 'name': 'Pikk'}]"
      ]
     },
     "execution_count": 173,
     "metadata": {},
     "output_type": "execute_result"
    }
   ],
   "source": [
    "list(db.companies.find({'founded_year':{'$type':'int'}},\\\n",
    "                       {'_id':0,'name':1,'founded_year':1})\\\n",
    "    .sort('founded_year',-1).limit(10))"
   ]
  },
  {
   "cell_type": "markdown",
   "metadata": {},
   "source": [
    "### 16. All the companies that have been founded on the first seven days of the month, including the seventh. Sort them by their `aquisition price` descendently. Limit the search to 10 documents."
   ]
  },
  {
   "cell_type": "code",
   "execution_count": 196,
   "metadata": {},
   "outputs": [
    {
     "data": {
      "text/plain": [
       "[{'name': 'Netscape'},\n",
       " {'name': 'PayPal'},\n",
       " {'name': 'Zappos'},\n",
       " {'name': 'Alibaba'},\n",
       " {'name': 'Postini'},\n",
       " {'name': 'Danger'},\n",
       " {'name': 'Clearwell Systems'},\n",
       " {'name': 'PrimeSense'},\n",
       " {'name': 'Amobee'},\n",
       " {'name': 'BlueLithium'}]"
      ]
     },
     "execution_count": 196,
     "metadata": {},
     "output_type": "execute_result"
    }
   ],
   "source": [
    "list(db.companies.find({'founded_day':{'$lte':7}},\\\n",
    "                        {'_id':0,'name':1})\\\n",
    "     .sort(\"acquisition.price_amount\",-1).limit(10))"
   ]
  },
  {
   "cell_type": "markdown",
   "metadata": {},
   "source": [
    "### 18. All the companies which their acquisition amount is more than 10.000.000, and currency are 'EUR'.\n"
   ]
  },
  {
   "cell_type": "code",
   "execution_count": 199,
   "metadata": {},
   "outputs": [
    {
     "data": {
      "text/plain": [
       "[]"
      ]
     },
     "execution_count": 199,
     "metadata": {},
     "output_type": "execute_result"
    }
   ],
   "source": [
    "list(db.companies.find({'$and':[{\"acquisition.price_amount\":{'$gt':'10M'}},{\"offices.country_code\":'EUR'}]})\\\n",
    "     .sort('number_of_employees').limit(10))"
   ]
  },
  {
   "cell_type": "code",
   "execution_count": 226,
   "metadata": {
    "scrolled": true
   },
   "outputs": [
    {
     "data": {
      "text/plain": [
       "['_id',\n",
       " 'name',\n",
       " 'permalink',\n",
       " 'crunchbase_url',\n",
       " 'homepage_url',\n",
       " 'blog_url',\n",
       " 'blog_feed_url',\n",
       " 'twitter_username',\n",
       " 'category_code',\n",
       " 'number_of_employees',\n",
       " 'founded_year',\n",
       " 'founded_month',\n",
       " 'founded_day',\n",
       " 'deadpooled_year',\n",
       " 'tag_list',\n",
       " 'alias_list',\n",
       " 'email_address',\n",
       " 'phone_number',\n",
       " 'description',\n",
       " 'created_at',\n",
       " 'updated_at',\n",
       " 'overview',\n",
       " 'image',\n",
       " 'products',\n",
       " 'relationships',\n",
       " 'competitions',\n",
       " 'providerships',\n",
       " 'total_money_raised',\n",
       " 'funding_rounds',\n",
       " 'investments',\n",
       " 'acquisition',\n",
       " 'acquisitions',\n",
       " 'offices',\n",
       " 'milestones',\n",
       " 'video_embeds',\n",
       " 'screenshots',\n",
       " 'external_links',\n",
       " 'partners',\n",
       " 'deadpooled_month',\n",
       " 'deadpooled_day',\n",
       " 'deadpooled_url',\n",
       " 'ipo']"
      ]
     },
     "execution_count": 226,
     "metadata": {},
     "output_type": "execute_result"
    }
   ],
   "source": [
    "list(df.columns)"
   ]
  },
  {
   "cell_type": "code",
   "execution_count": 227,
   "metadata": {},
   "outputs": [
    {
     "data": {
      "text/html": [
       "<div>\n",
       "<style scoped>\n",
       "    .dataframe tbody tr th:only-of-type {\n",
       "        vertical-align: middle;\n",
       "    }\n",
       "\n",
       "    .dataframe tbody tr th {\n",
       "        vertical-align: top;\n",
       "    }\n",
       "\n",
       "    .dataframe thead th {\n",
       "        text-align: right;\n",
       "    }\n",
       "</style>\n",
       "<table border=\"1\" class=\"dataframe\">\n",
       "  <thead>\n",
       "    <tr style=\"text-align: right;\">\n",
       "      <th></th>\n",
       "      <th>_id</th>\n",
       "      <th>name</th>\n",
       "      <th>permalink</th>\n",
       "      <th>crunchbase_url</th>\n",
       "      <th>homepage_url</th>\n",
       "      <th>blog_url</th>\n",
       "      <th>blog_feed_url</th>\n",
       "      <th>twitter_username</th>\n",
       "      <th>category_code</th>\n",
       "      <th>number_of_employees</th>\n",
       "      <th>...</th>\n",
       "      <th>offices</th>\n",
       "      <th>milestones</th>\n",
       "      <th>video_embeds</th>\n",
       "      <th>screenshots</th>\n",
       "      <th>external_links</th>\n",
       "      <th>partners</th>\n",
       "      <th>deadpooled_month</th>\n",
       "      <th>deadpooled_day</th>\n",
       "      <th>deadpooled_url</th>\n",
       "      <th>ipo</th>\n",
       "    </tr>\n",
       "  </thead>\n",
       "  <tbody>\n",
       "    <tr>\n",
       "      <th>0</th>\n",
       "      <td>52cdef7c4bab8bd675297d8a</td>\n",
       "      <td>Wetpaint</td>\n",
       "      <td>abc2</td>\n",
       "      <td>http://www.crunchbase.com/company/wetpaint</td>\n",
       "      <td>http://wetpaint-inc.com</td>\n",
       "      <td>http://digitalquarters.net/</td>\n",
       "      <td>http://digitalquarters.net/feed/</td>\n",
       "      <td>BachelrWetpaint</td>\n",
       "      <td>web</td>\n",
       "      <td>47.0</td>\n",
       "      <td>...</td>\n",
       "      <td>[{'description': '', 'address1': '710 - 2nd Av...</td>\n",
       "      <td>[{'id': 5869, 'description': 'Wetpaint named i...</td>\n",
       "      <td>[]</td>\n",
       "      <td>[{'available_sizes': [[[150, 86], 'assets/imag...</td>\n",
       "      <td>[{'external_url': 'http://www.geekwire.com/201...</td>\n",
       "      <td>[]</td>\n",
       "      <td>NaN</td>\n",
       "      <td>NaN</td>\n",
       "      <td>NaN</td>\n",
       "      <td>NaN</td>\n",
       "    </tr>\n",
       "    <tr>\n",
       "      <th>1</th>\n",
       "      <td>52cdef7c4bab8bd675297d8b</td>\n",
       "      <td>AdventNet</td>\n",
       "      <td>abc3</td>\n",
       "      <td>http://www.crunchbase.com/company/adventnet</td>\n",
       "      <td>http://adventnet.com</td>\n",
       "      <td></td>\n",
       "      <td></td>\n",
       "      <td>manageengine</td>\n",
       "      <td>enterprise</td>\n",
       "      <td>600.0</td>\n",
       "      <td>...</td>\n",
       "      <td>[{'description': 'Headquarters', 'address1': '...</td>\n",
       "      <td>[]</td>\n",
       "      <td>[]</td>\n",
       "      <td>[{'available_sizes': [[[150, 94], 'assets/imag...</td>\n",
       "      <td>[]</td>\n",
       "      <td>[]</td>\n",
       "      <td>NaN</td>\n",
       "      <td>NaN</td>\n",
       "      <td>NaN</td>\n",
       "      <td>NaN</td>\n",
       "    </tr>\n",
       "    <tr>\n",
       "      <th>2</th>\n",
       "      <td>52cdef7c4bab8bd675297d8c</td>\n",
       "      <td>Zoho</td>\n",
       "      <td>abc4</td>\n",
       "      <td>http://www.crunchbase.com/company/zoho</td>\n",
       "      <td>http://zoho.com</td>\n",
       "      <td>http://blogs.zoho.com/</td>\n",
       "      <td>http://blogs.zoho.com/feed</td>\n",
       "      <td>zoho</td>\n",
       "      <td>software</td>\n",
       "      <td>1600.0</td>\n",
       "      <td>...</td>\n",
       "      <td>[{'description': 'Headquarters', 'address1': '...</td>\n",
       "      <td>[{'id': 388, 'description': 'Zoho Reaches 2 Mi...</td>\n",
       "      <td>[{'embed_code': '&lt;object width=\"430\" height=\"2...</td>\n",
       "      <td>[]</td>\n",
       "      <td>[{'external_url': 'http://www.online-tech-tips...</td>\n",
       "      <td>[]</td>\n",
       "      <td>NaN</td>\n",
       "      <td>NaN</td>\n",
       "      <td>NaN</td>\n",
       "      <td>NaN</td>\n",
       "    </tr>\n",
       "    <tr>\n",
       "      <th>3</th>\n",
       "      <td>52cdef7c4bab8bd675297d8d</td>\n",
       "      <td>Digg</td>\n",
       "      <td>digg</td>\n",
       "      <td>http://www.crunchbase.com/company/digg</td>\n",
       "      <td>http://www.digg.com</td>\n",
       "      <td>http://blog.digg.com/</td>\n",
       "      <td>http://blog.digg.com/?feed=rss2</td>\n",
       "      <td>digg</td>\n",
       "      <td>news</td>\n",
       "      <td>60.0</td>\n",
       "      <td>...</td>\n",
       "      <td>[{'description': None, 'address1': '135 Missis...</td>\n",
       "      <td>[{'id': 9588, 'description': 'Another Digg Exe...</td>\n",
       "      <td>[{'embed_code': '&lt;embed src=\"http://blip.tv/pl...</td>\n",
       "      <td>[{'available_sizes': [[[117, 150], 'assets/ima...</td>\n",
       "      <td>[{'external_url': 'http://www.sociableblog.com...</td>\n",
       "      <td>[]</td>\n",
       "      <td>NaN</td>\n",
       "      <td>NaN</td>\n",
       "      <td>None</td>\n",
       "      <td>None</td>\n",
       "    </tr>\n",
       "    <tr>\n",
       "      <th>4</th>\n",
       "      <td>52cdef7c4bab8bd675297d8e</td>\n",
       "      <td>Facebook</td>\n",
       "      <td>facebook</td>\n",
       "      <td>http://www.crunchbase.com/company/facebook</td>\n",
       "      <td>http://facebook.com</td>\n",
       "      <td>http://blog.facebook.com</td>\n",
       "      <td>http://blog.facebook.com/atom.php</td>\n",
       "      <td>facebook</td>\n",
       "      <td>social</td>\n",
       "      <td>5299.0</td>\n",
       "      <td>...</td>\n",
       "      <td>[{'description': 'Headquarters', 'address1': '...</td>\n",
       "      <td>[{'id': 108, 'description': 'Facebook adds com...</td>\n",
       "      <td>[]</td>\n",
       "      <td>[{'available_sizes': [[[150, 68], 'assets/imag...</td>\n",
       "      <td>[{'external_url': 'http://latimesblogs.latimes...</td>\n",
       "      <td>[]</td>\n",
       "      <td>NaN</td>\n",
       "      <td>NaN</td>\n",
       "      <td></td>\n",
       "      <td>{'valuation_amount': 104000000000, 'valuation_...</td>\n",
       "    </tr>\n",
       "    <tr>\n",
       "      <th>...</th>\n",
       "      <td>...</td>\n",
       "      <td>...</td>\n",
       "      <td>...</td>\n",
       "      <td>...</td>\n",
       "      <td>...</td>\n",
       "      <td>...</td>\n",
       "      <td>...</td>\n",
       "      <td>...</td>\n",
       "      <td>...</td>\n",
       "      <td>...</td>\n",
       "      <td>...</td>\n",
       "      <td>...</td>\n",
       "      <td>...</td>\n",
       "      <td>...</td>\n",
       "      <td>...</td>\n",
       "      <td>...</td>\n",
       "      <td>...</td>\n",
       "      <td>...</td>\n",
       "      <td>...</td>\n",
       "      <td>...</td>\n",
       "      <td>...</td>\n",
       "    </tr>\n",
       "    <tr>\n",
       "      <th>18796</th>\n",
       "      <td>52cdef7f4bab8bd67529c6f6</td>\n",
       "      <td>Adhunk</td>\n",
       "      <td>adhunk</td>\n",
       "      <td>http://www.crunchbase.com/company/adhunk</td>\n",
       "      <td>http://www.adhunk.com</td>\n",
       "      <td>http://blog.adhunk.com</td>\n",
       "      <td>http://blog.adhunk.com/feed</td>\n",
       "      <td></td>\n",
       "      <td>advertising</td>\n",
       "      <td>3.0</td>\n",
       "      <td>...</td>\n",
       "      <td>[{'description': 'Indian Office', 'address1': ...</td>\n",
       "      <td>[]</td>\n",
       "      <td>[]</td>\n",
       "      <td>[]</td>\n",
       "      <td>[{'external_url': 'http://www.hubpages.in/inte...</td>\n",
       "      <td>[]</td>\n",
       "      <td>NaN</td>\n",
       "      <td>NaN</td>\n",
       "      <td>None</td>\n",
       "      <td>None</td>\n",
       "    </tr>\n",
       "    <tr>\n",
       "      <th>18797</th>\n",
       "      <td>52cdef7f4bab8bd67529c6f7</td>\n",
       "      <td>AfterLogic</td>\n",
       "      <td>afterlogic</td>\n",
       "      <td>http://www.crunchbase.com/company/afterlogic</td>\n",
       "      <td>http://www.afterlogic.com</td>\n",
       "      <td></td>\n",
       "      <td></td>\n",
       "      <td>afterlogic</td>\n",
       "      <td>software</td>\n",
       "      <td>NaN</td>\n",
       "      <td>...</td>\n",
       "      <td>[{'description': 'Livingston', 'address1': 'P....</td>\n",
       "      <td>[]</td>\n",
       "      <td>[]</td>\n",
       "      <td>[{'available_sizes': [[[150, 137], 'assets/ima...</td>\n",
       "      <td>[]</td>\n",
       "      <td>[]</td>\n",
       "      <td>NaN</td>\n",
       "      <td>NaN</td>\n",
       "      <td>None</td>\n",
       "      <td>None</td>\n",
       "    </tr>\n",
       "    <tr>\n",
       "      <th>18798</th>\n",
       "      <td>52cdef7f4bab8bd67529c6f8</td>\n",
       "      <td>goBookmaker</td>\n",
       "      <td>gobookmaker</td>\n",
       "      <td>http://www.crunchbase.com/company/gobookmaker</td>\n",
       "      <td>http://www.gobookmaker.com</td>\n",
       "      <td>http://blog.gobookmaker.com</td>\n",
       "      <td></td>\n",
       "      <td>gobookmaker</td>\n",
       "      <td>web</td>\n",
       "      <td>NaN</td>\n",
       "      <td>...</td>\n",
       "      <td>[]</td>\n",
       "      <td>[]</td>\n",
       "      <td>[]</td>\n",
       "      <td>[{'available_sizes': [[[150, 80], 'assets/imag...</td>\n",
       "      <td>[]</td>\n",
       "      <td>[]</td>\n",
       "      <td>NaN</td>\n",
       "      <td>NaN</td>\n",
       "      <td>None</td>\n",
       "      <td>None</td>\n",
       "    </tr>\n",
       "    <tr>\n",
       "      <th>18799</th>\n",
       "      <td>52cdef7f4bab8bd67529c6f9</td>\n",
       "      <td>EnteGreat Solutions</td>\n",
       "      <td>entegreat-solutions</td>\n",
       "      <td>http://www.crunchbase.com/company/entegreat-so...</td>\n",
       "      <td></td>\n",
       "      <td></td>\n",
       "      <td></td>\n",
       "      <td></td>\n",
       "      <td>software</td>\n",
       "      <td>NaN</td>\n",
       "      <td>...</td>\n",
       "      <td>[{'description': '', 'address1': '', 'address2...</td>\n",
       "      <td>[]</td>\n",
       "      <td>[]</td>\n",
       "      <td>[]</td>\n",
       "      <td>[]</td>\n",
       "      <td>[]</td>\n",
       "      <td>NaN</td>\n",
       "      <td>NaN</td>\n",
       "      <td>None</td>\n",
       "      <td>None</td>\n",
       "    </tr>\n",
       "    <tr>\n",
       "      <th>18800</th>\n",
       "      <td>52cdef7f4bab8bd67529c6fa</td>\n",
       "      <td>EnteGreat</td>\n",
       "      <td>entegreat</td>\n",
       "      <td>http://www.crunchbase.com/company/entegreat</td>\n",
       "      <td>http://www.entegreat.com</td>\n",
       "      <td></td>\n",
       "      <td></td>\n",
       "      <td></td>\n",
       "      <td>enterprise</td>\n",
       "      <td>NaN</td>\n",
       "      <td>...</td>\n",
       "      <td>[{'description': '', 'address1': '1900 Interna...</td>\n",
       "      <td>[]</td>\n",
       "      <td>[]</td>\n",
       "      <td>[]</td>\n",
       "      <td>[]</td>\n",
       "      <td>[]</td>\n",
       "      <td>NaN</td>\n",
       "      <td>NaN</td>\n",
       "      <td>None</td>\n",
       "      <td>None</td>\n",
       "    </tr>\n",
       "  </tbody>\n",
       "</table>\n",
       "<p>18801 rows × 42 columns</p>\n",
       "</div>"
      ],
      "text/plain": [
       "                            _id                 name            permalink  \\\n",
       "0      52cdef7c4bab8bd675297d8a             Wetpaint                 abc2   \n",
       "1      52cdef7c4bab8bd675297d8b            AdventNet                 abc3   \n",
       "2      52cdef7c4bab8bd675297d8c                 Zoho                 abc4   \n",
       "3      52cdef7c4bab8bd675297d8d                 Digg                 digg   \n",
       "4      52cdef7c4bab8bd675297d8e             Facebook             facebook   \n",
       "...                         ...                  ...                  ...   \n",
       "18796  52cdef7f4bab8bd67529c6f6               Adhunk               adhunk   \n",
       "18797  52cdef7f4bab8bd67529c6f7           AfterLogic           afterlogic   \n",
       "18798  52cdef7f4bab8bd67529c6f8          goBookmaker          gobookmaker   \n",
       "18799  52cdef7f4bab8bd67529c6f9  EnteGreat Solutions  entegreat-solutions   \n",
       "18800  52cdef7f4bab8bd67529c6fa            EnteGreat            entegreat   \n",
       "\n",
       "                                          crunchbase_url  \\\n",
       "0             http://www.crunchbase.com/company/wetpaint   \n",
       "1            http://www.crunchbase.com/company/adventnet   \n",
       "2                 http://www.crunchbase.com/company/zoho   \n",
       "3                 http://www.crunchbase.com/company/digg   \n",
       "4             http://www.crunchbase.com/company/facebook   \n",
       "...                                                  ...   \n",
       "18796           http://www.crunchbase.com/company/adhunk   \n",
       "18797       http://www.crunchbase.com/company/afterlogic   \n",
       "18798      http://www.crunchbase.com/company/gobookmaker   \n",
       "18799  http://www.crunchbase.com/company/entegreat-so...   \n",
       "18800        http://www.crunchbase.com/company/entegreat   \n",
       "\n",
       "                     homepage_url                     blog_url  \\\n",
       "0         http://wetpaint-inc.com  http://digitalquarters.net/   \n",
       "1            http://adventnet.com                                \n",
       "2                 http://zoho.com       http://blogs.zoho.com/   \n",
       "3             http://www.digg.com        http://blog.digg.com/   \n",
       "4             http://facebook.com     http://blog.facebook.com   \n",
       "...                           ...                          ...   \n",
       "18796       http://www.adhunk.com       http://blog.adhunk.com   \n",
       "18797   http://www.afterlogic.com                                \n",
       "18798  http://www.gobookmaker.com  http://blog.gobookmaker.com   \n",
       "18799                                                            \n",
       "18800    http://www.entegreat.com                                \n",
       "\n",
       "                           blog_feed_url twitter_username category_code  \\\n",
       "0       http://digitalquarters.net/feed/  BachelrWetpaint           web   \n",
       "1                                            manageengine    enterprise   \n",
       "2             http://blogs.zoho.com/feed             zoho      software   \n",
       "3        http://blog.digg.com/?feed=rss2             digg          news   \n",
       "4      http://blog.facebook.com/atom.php         facebook        social   \n",
       "...                                  ...              ...           ...   \n",
       "18796        http://blog.adhunk.com/feed                    advertising   \n",
       "18797                                          afterlogic      software   \n",
       "18798                                         gobookmaker           web   \n",
       "18799                                                          software   \n",
       "18800                                                        enterprise   \n",
       "\n",
       "       number_of_employees  ...  \\\n",
       "0                     47.0  ...   \n",
       "1                    600.0  ...   \n",
       "2                   1600.0  ...   \n",
       "3                     60.0  ...   \n",
       "4                   5299.0  ...   \n",
       "...                    ...  ...   \n",
       "18796                  3.0  ...   \n",
       "18797                  NaN  ...   \n",
       "18798                  NaN  ...   \n",
       "18799                  NaN  ...   \n",
       "18800                  NaN  ...   \n",
       "\n",
       "                                                 offices  \\\n",
       "0      [{'description': '', 'address1': '710 - 2nd Av...   \n",
       "1      [{'description': 'Headquarters', 'address1': '...   \n",
       "2      [{'description': 'Headquarters', 'address1': '...   \n",
       "3      [{'description': None, 'address1': '135 Missis...   \n",
       "4      [{'description': 'Headquarters', 'address1': '...   \n",
       "...                                                  ...   \n",
       "18796  [{'description': 'Indian Office', 'address1': ...   \n",
       "18797  [{'description': 'Livingston', 'address1': 'P....   \n",
       "18798                                                 []   \n",
       "18799  [{'description': '', 'address1': '', 'address2...   \n",
       "18800  [{'description': '', 'address1': '1900 Interna...   \n",
       "\n",
       "                                              milestones  \\\n",
       "0      [{'id': 5869, 'description': 'Wetpaint named i...   \n",
       "1                                                     []   \n",
       "2      [{'id': 388, 'description': 'Zoho Reaches 2 Mi...   \n",
       "3      [{'id': 9588, 'description': 'Another Digg Exe...   \n",
       "4      [{'id': 108, 'description': 'Facebook adds com...   \n",
       "...                                                  ...   \n",
       "18796                                                 []   \n",
       "18797                                                 []   \n",
       "18798                                                 []   \n",
       "18799                                                 []   \n",
       "18800                                                 []   \n",
       "\n",
       "                                            video_embeds  \\\n",
       "0                                                     []   \n",
       "1                                                     []   \n",
       "2      [{'embed_code': '<object width=\"430\" height=\"2...   \n",
       "3      [{'embed_code': '<embed src=\"http://blip.tv/pl...   \n",
       "4                                                     []   \n",
       "...                                                  ...   \n",
       "18796                                                 []   \n",
       "18797                                                 []   \n",
       "18798                                                 []   \n",
       "18799                                                 []   \n",
       "18800                                                 []   \n",
       "\n",
       "                                             screenshots  \\\n",
       "0      [{'available_sizes': [[[150, 86], 'assets/imag...   \n",
       "1      [{'available_sizes': [[[150, 94], 'assets/imag...   \n",
       "2                                                     []   \n",
       "3      [{'available_sizes': [[[117, 150], 'assets/ima...   \n",
       "4      [{'available_sizes': [[[150, 68], 'assets/imag...   \n",
       "...                                                  ...   \n",
       "18796                                                 []   \n",
       "18797  [{'available_sizes': [[[150, 137], 'assets/ima...   \n",
       "18798  [{'available_sizes': [[[150, 80], 'assets/imag...   \n",
       "18799                                                 []   \n",
       "18800                                                 []   \n",
       "\n",
       "                                          external_links partners  \\\n",
       "0      [{'external_url': 'http://www.geekwire.com/201...       []   \n",
       "1                                                     []       []   \n",
       "2      [{'external_url': 'http://www.online-tech-tips...       []   \n",
       "3      [{'external_url': 'http://www.sociableblog.com...       []   \n",
       "4      [{'external_url': 'http://latimesblogs.latimes...       []   \n",
       "...                                                  ...      ...   \n",
       "18796  [{'external_url': 'http://www.hubpages.in/inte...       []   \n",
       "18797                                                 []       []   \n",
       "18798                                                 []       []   \n",
       "18799                                                 []       []   \n",
       "18800                                                 []       []   \n",
       "\n",
       "      deadpooled_month deadpooled_day deadpooled_url  \\\n",
       "0                  NaN            NaN            NaN   \n",
       "1                  NaN            NaN            NaN   \n",
       "2                  NaN            NaN            NaN   \n",
       "3                  NaN            NaN           None   \n",
       "4                  NaN            NaN                  \n",
       "...                ...            ...            ...   \n",
       "18796              NaN            NaN           None   \n",
       "18797              NaN            NaN           None   \n",
       "18798              NaN            NaN           None   \n",
       "18799              NaN            NaN           None   \n",
       "18800              NaN            NaN           None   \n",
       "\n",
       "                                                     ipo  \n",
       "0                                                    NaN  \n",
       "1                                                    NaN  \n",
       "2                                                    NaN  \n",
       "3                                                   None  \n",
       "4      {'valuation_amount': 104000000000, 'valuation_...  \n",
       "...                                                  ...  \n",
       "18796                                               None  \n",
       "18797                                               None  \n",
       "18798                                               None  \n",
       "18799                                               None  \n",
       "18800                                               None  \n",
       "\n",
       "[18801 rows x 42 columns]"
      ]
     },
     "execution_count": 227,
     "metadata": {},
     "output_type": "execute_result"
    }
   ],
   "source": [
    "df"
   ]
  },
  {
   "cell_type": "markdown",
   "metadata": {},
   "source": [
    "### 19. All the companies that have been acquired on the first trimester of the year. Limit the search to 10 companies, and retrieve only their `name` and `acquisition` fields."
   ]
  },
  {
   "cell_type": "code",
   "execution_count": 201,
   "metadata": {},
   "outputs": [
    {
     "data": {
      "text/plain": [
       "[{'acquisition': None, 'name': 'Facebook'},\n",
       " {'acquisition': None, 'name': 'Twitter'},\n",
       " {'acquisition': {'acquired_day': None,\n",
       "   'acquired_month': 4,\n",
       "   'acquired_year': 2009,\n",
       "   'acquiring_company': {'name': 'StumbleUpon', 'permalink': 'stumbleupon'},\n",
       "   'price_amount': 29000000,\n",
       "   'price_currency_code': 'USD',\n",
       "   'source_description': \"StumbleUpon Beats Skype In Escaping EBay's Clutches\",\n",
       "   'source_url': 'http://techcrunch.com/2009/04/13/ebay-unacquires-stumbleupon/',\n",
       "   'term_code': None},\n",
       "  'name': 'StumbleUpon'},\n",
       " {'acquisition': {'acquired_day': 15,\n",
       "   'acquired_month': 12,\n",
       "   'acquired_year': 2009,\n",
       "   'acquiring_company': {'name': 'Daz 3d', 'permalink': 'daz-3d'},\n",
       "   'price_amount': None,\n",
       "   'price_currency_code': 'USD',\n",
       "   'source_description': 'TechCrunch',\n",
       "   'source_url': 'http://www.gizmoz.com',\n",
       "   'term_code': None},\n",
       "  'name': 'Gizmoz'},\n",
       " {'acquisition': {'acquired_day': 27,\n",
       "   'acquired_month': 6,\n",
       "   'acquired_year': 2008,\n",
       "   'acquiring_company': {'name': 'Virgin Mobile USA',\n",
       "    'permalink': 'virgin-mobile'},\n",
       "   'price_amount': 39000000,\n",
       "   'price_currency_code': 'USD',\n",
       "   'source_description': 'Virgin Mobile USA buys Helio for $39 million',\n",
       "   'source_url': 'http://news.cnet.com/8301-10784_3-9978991-7.html',\n",
       "   'term_code': 'stock'},\n",
       "  'name': 'Helio'},\n",
       " {'acquisition': None, 'name': 'Babelgum'},\n",
       " {'acquisition': None, 'name': 'Yahoo!'},\n",
       " {'acquisition': None, 'name': 'Mahalo'},\n",
       " {'acquisition': None, 'name': 'Meetup'},\n",
       " {'acquisition': None, 'name': 'Jangl SMS'}]"
      ]
     },
     "execution_count": 201,
     "metadata": {},
     "output_type": "execute_result"
    }
   ],
   "source": [
    "list(db.companies.find({'founded_month':{'$lte':3}},\\\n",
    "                       {'_id':0,'name':1, 'acquisition':1})\\\n",
    "     .limit(10))"
   ]
  },
  {
   "cell_type": "markdown",
   "metadata": {},
   "source": [
    "### 20. All the companies that have been founded between 2000 and 2010, but have not been acquired before 2011."
   ]
  },
  {
   "cell_type": "code",
   "execution_count": 210,
   "metadata": {},
   "outputs": [
    {
     "data": {
      "text/plain": [
       "[{'founded_year': 2009, 'name': 'Trunkt'},\n",
       " {'founded_year': 2009, 'name': 'HyperWeek'},\n",
       " {'founded_year': 2009, 'name': 'Shutl'},\n",
       " {'founded_year': 2009, 'name': 'Infochimps'},\n",
       " {'founded_year': 2009, 'name': 'Wefollow'},\n",
       " {'founded_year': 2009, 'name': '1000 Markets'},\n",
       " {'founded_year': 2009, 'name': 'gdgt'},\n",
       " {'founded_year': 2009, 'name': 'Pixable'},\n",
       " {'founded_year': 2009, 'name': 'Aragon Pharmaceuticals'},\n",
       " {'founded_year': 2008, 'name': 'Uptake'},\n",
       " {'founded_year': 2008, 'name': 'Particle'},\n",
       " {'founded_year': 2008, 'name': 'Weplay'},\n",
       " {'founded_year': 2008, 'name': 'Salesconx'},\n",
       " {'founded_year': 2008, 'name': 'EQAL'},\n",
       " {'founded_year': 2008, 'name': 'Mollom'},\n",
       " {'founded_year': 2008, 'name': 'Syncplicity'},\n",
       " {'founded_year': 2008, 'name': 'Posterous'},\n",
       " {'founded_year': 2008, 'name': 'Buysight'},\n",
       " {'founded_year': 2008, 'name': 'Producteev'},\n",
       " {'founded_year': 2008, 'name': 'Yammer'},\n",
       " {'founded_year': 2008, 'name': 'AUPEO!'},\n",
       " {'founded_year': 2008, 'name': 'Producteev'},\n",
       " {'founded_year': 2008, 'name': 'Yammer'},\n",
       " {'founded_year': 2008, 'name': 'AUPEO!'},\n",
       " {'founded_year': 2008, 'name': 'Twittertise'},\n",
       " {'founded_year': 2008, 'name': 'Wiggio'},\n",
       " {'founded_year': 2008, 'name': 'CarZen'},\n",
       " {'founded_year': 2008, 'name': 'Globrix'},\n",
       " {'founded_year': 2008, 'name': 'Ascribe'},\n",
       " {'founded_year': 2008, 'name': 'Circle of Moms'}]"
      ]
     },
     "execution_count": 210,
     "metadata": {},
     "output_type": "execute_result"
    }
   ],
   "source": [
    "list(db.companies.find({'$and':[{'acquisition.acquired_year':{'$gt':2011}},{'founded_year':{'$gte':2000,'$lte':2010}}]},\\\n",
    "                 {'_id':0,'name':1,'founded_year':1})\\\n",
    "    .sort('founded_year',-1).limit(30))\n"
   ]
  },
  {
   "cell_type": "code",
   "execution_count": null,
   "metadata": {},
   "outputs": [],
   "source": []
  }
 ],
 "metadata": {
  "kernelspec": {
   "display_name": "Python 3",
   "language": "python",
   "name": "python3"
  },
  "language_info": {
   "codemirror_mode": {
    "name": "ipython",
    "version": 3
   },
   "file_extension": ".py",
   "mimetype": "text/x-python",
   "name": "python",
   "nbconvert_exporter": "python",
   "pygments_lexer": "ipython3",
   "version": "3.6.9"
  }
 },
 "nbformat": 4,
 "nbformat_minor": 2
}
